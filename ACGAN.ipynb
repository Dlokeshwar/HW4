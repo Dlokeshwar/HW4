{
 "cells": [
  {
   "cell_type": "code",
   "execution_count": 1,
   "id": "306b74dd-dc81-4d93-a0a8-9b5f1c3deba5",
   "metadata": {
    "tags": []
   },
   "outputs": [
    {
     "name": "stdout",
     "output_type": "stream",
     "text": [
      "Files already downloaded and verified\n"
     ]
    }
   ],
   "source": [
    "import torch\n",
    "from torchvision import datasets, transforms\n",
    "from torch.utils.data import DataLoader\n",
    "\n",
    "# Load and preprocess CIFAR-10 dataset\n",
    "def preprocess_data():\n",
    "    transform = transforms.Compose([\n",
    "        transforms.Resize(64),\n",
    "        transforms.ToTensor(),\n",
    "        transforms.Normalize([0.5], [0.5])  # Normalize to [-1, 1]\n",
    "    ])\n",
    "    dataset = datasets.CIFAR10(root='./data', train=True, download=True, transform=transform)\n",
    "    dataloader = DataLoader(dataset, batch_size=64, shuffle=True)\n",
    "    return dataloader\n",
    "\n",
    "dataloader = preprocess_data()"
   ]
  },
  {
   "cell_type": "code",
   "execution_count": 2,
   "id": "afe0f551-cf3c-4905-b967-587c0172c233",
   "metadata": {
    "tags": []
   },
   "outputs": [],
   "source": [
    "import torch\n",
    "import torch.nn as nn\n",
    "\n",
    "class Generator(nn.Module):\n",
    "    def __init__(self, noise_dim, text_dim):  # Corrected to __init__\n",
    "        super(Generator, self).__init__()\n",
    "        input_dim = noise_dim + text_dim\n",
    "        self.main = nn.Sequential(\n",
    "            nn.Linear(input_dim, 4 * 4 * 512),\n",
    "            nn.ReLU(True),\n",
    "            nn.Unflatten(1, (512, 4, 4)),\n",
    "            \n",
    "            nn.ConvTranspose2d(512, 256, kernel_size=5, stride=2, padding=2, output_padding=1),\n",
    "            nn.BatchNorm2d(256),\n",
    "            nn.ReLU(True),\n",
    "            \n",
    "            nn.ConvTranspose2d(256, 128, kernel_size=5, stride=2, padding=2, output_padding=1),\n",
    "            nn.BatchNorm2d(128),\n",
    "            nn.ReLU(True),\n",
    "            \n",
    "            nn.ConvTranspose2d(128, 64, kernel_size=5, stride=2, padding=2, output_padding=1),\n",
    "            nn.BatchNorm2d(64),\n",
    "            nn.ReLU(True),\n",
    "            \n",
    "            nn.ConvTranspose2d(64, 3, kernel_size=5, stride=2, padding=2, output_padding=1),\n",
    "            nn.Tanh()\n",
    "        )\n",
    "\n",
    "    def forward(self, noise, text):\n",
    "        x = torch.cat((noise, text), dim=1)\n",
    "        return self.main(x)\n"
   ]
  },
  {
   "cell_type": "code",
   "execution_count": 3,
   "id": "558283f3-ba2c-443a-b233-484083ff0a0a",
   "metadata": {
    "tags": []
   },
   "outputs": [],
   "source": [
    "import torch\n",
    "import torch.nn as nn\n",
    "\n",
    "class Discriminator(nn.Module):\n",
    "    def __init__(self, text_dim):\n",
    "        super(Discriminator, self).__init__()\n",
    "        self.text_embed = nn.Sequential(\n",
    "            nn.Linear(text_dim, 256),\n",
    "            nn.ReLU(True),\n",
    "            nn.Unflatten(1, (256, 1, 1))  # Unflatten to (256, 1, 1) for concatenation\n",
    "        )\n",
    "        \n",
    "        self.main = nn.Sequential(\n",
    "            nn.Conv2d(3, 64, kernel_size=5, stride=2, padding=2),\n",
    "            nn.LeakyReLU(0.2, inplace=True),\n",
    "            \n",
    "            nn.Conv2d(64, 128, kernel_size=5, stride=2, padding=2),\n",
    "            nn.BatchNorm2d(128),\n",
    "            nn.LeakyReLU(0.2, inplace=True),\n",
    "            \n",
    "            nn.Conv2d(128, 256, kernel_size=5, stride=2, padding=2),\n",
    "            nn.BatchNorm2d(256),\n",
    "            nn.LeakyReLU(0.2, inplace=True),\n",
    "            \n",
    "            nn.Conv2d(256, 512, kernel_size=5, stride=2, padding=2),\n",
    "            nn.BatchNorm2d(512),\n",
    "            nn.LeakyReLU(0.2, inplace=True),\n",
    "        )\n",
    "        \n",
    "        self.final = nn.Sequential(\n",
    "            nn.Conv2d(512 + 256, 512, kernel_size=1),  # Combine image and text features\n",
    "            nn.Flatten(),\n",
    "            nn.Linear(512 * 4 * 4, 1)  # Output scalar (no Sigmoid for WGAN loss)\n",
    "        )\n",
    "\n",
    "    def forward(self, image, text):\n",
    "        # Embed the text and expand dimensions for concatenation\n",
    "        text_emb = self.text_embed(text).expand(-1, -1, 4, 4)  # Match spatial dimensions of image features\n",
    "        # Pass the image through the convolutional layers\n",
    "        image_features = self.main(image)\n",
    "        # Concatenate image features and text embedding along the channel dimension\n",
    "        combined = torch.cat((image_features, text_emb), dim=1)\n",
    "        # Pass the combined features through the final layers\n",
    "        return self.final(combined)\n"
   ]
  },
  {
   "cell_type": "code",
   "execution_count": 4,
   "id": "3b76f2e4-069e-483c-837a-eb32cfbc490a",
   "metadata": {
    "tags": []
   },
   "outputs": [],
   "source": [
    "import torch.optim as optim\n",
    "\n",
    "def train_wgan(generator, discriminator, dataloader, epochs, noise_dim, text_dim, device, n_critic=5, weight_clip=0.01):\n",
    "    gen_optimizer = optim.Adam(generator.parameters(), lr=0.0002, betas=(0.5, 0.999))\n",
    "    disc_optimizer = optim.Adam(discriminator.parameters(), lr=0.0002, betas=(0.5, 0.999))\n",
    "\n",
    "    generator.to(device)\n",
    "    discriminator.to(device)\n",
    "\n",
    "    for epoch in range(epochs):\n",
    "        for i, (images, _) in enumerate(dataloader):\n",
    "            images = images.to(device)\n",
    "            batch_size = images.size(0)\n",
    "\n",
    "            # Train Discriminator\n",
    "            for _ in range(n_critic):\n",
    "                noise = torch.randn(batch_size, noise_dim).to(device)\n",
    "                text = torch.randn(batch_size, text_dim).to(device)\n",
    "                fake_images = generator(noise, text)\n",
    "\n",
    "                disc_real = discriminator(images, text).mean()\n",
    "                disc_fake = discriminator(fake_images.detach(), text).mean()\n",
    "                disc_loss = -(disc_real - disc_fake)\n",
    "                disc_optimizer.zero_grad()\n",
    "                disc_loss.backward()\n",
    "                disc_optimizer.step()\n",
    "\n",
    "                # Weight clipping\n",
    "                for p in discriminator.parameters():\n",
    "                    p.data.clamp_(-weight_clip, weight_clip)\n",
    "\n",
    "            # Train Generator\n",
    "            noise = torch.randn(batch_size, noise_dim).to(device)\n",
    "            text = torch.randn(batch_size, text_dim).to(device)\n",
    "            fake_images = generator(noise, text)\n",
    "            gen_loss = -discriminator(fake_images, text).mean()\n",
    "\n",
    "            gen_optimizer.zero_grad()\n",
    "            gen_loss.backward()\n",
    "            gen_optimizer.step()\n",
    "\n",
    "        print(f\"Epoch [{epoch+1}/{epochs}] | Gen Loss: {gen_loss.item()} | Disc Loss: {disc_loss.item()}\")"
   ]
  },
  {
   "cell_type": "code",
   "execution_count": 5,
   "id": "205aee9f-54f0-4024-9d8f-d9e098635268",
   "metadata": {
    "tags": []
   },
   "outputs": [],
   "source": [
    "import matplotlib.pyplot as plt\n",
    "\n",
    "def generate_and_save_images(generator, epoch, noise_dim, text_dim, device, num_examples=10):\n",
    "    generator.eval()\n",
    "    noise = torch.randn(num_examples, noise_dim).to(device)\n",
    "    text = torch.randn(num_examples, text_dim).to(device)\n",
    "    fake_images = generator(noise, text).cpu().detach()\n",
    "\n",
    "    fake_images = (fake_images + 1) / 2  # Rescale to [0, 1]\n",
    "\n",
    "    plt.figure(figsize=(10, 2))\n",
    "    for i in range(num_examples):\n",
    "        plt.subplot(1, num_examples, i + 1)\n",
    "        plt.imshow(fake_images[i].permute(1, 2, 0).numpy())\n",
    "        plt.axis(\"off\")\n",
    "        plt.savefig(f\"generated_images_epoch_{epoch}.png\")\n",
    "        plt.show()\n",
    "    "
   ]
  },
  {
   "cell_type": "code",
   "execution_count": 6,
   "id": "0ba7355a-a87e-4eea-9019-11ad13efc08a",
   "metadata": {
    "tags": []
   },
   "outputs": [
    {
     "name": "stdout",
     "output_type": "stream",
     "text": [
      "Epoch [1/50] | Gen Loss: 4.039780616760254 | Disc Loss: -8.116222381591797\n",
      "Epoch [2/50] | Gen Loss: 4.038205146789551 | Disc Loss: -8.118806838989258\n",
      "Epoch [3/50] | Gen Loss: 4.042569160461426 | Disc Loss: -8.121171951293945\n",
      "Epoch [4/50] | Gen Loss: 4.0407891273498535 | Disc Loss: -8.122718811035156\n",
      "Epoch [5/50] | Gen Loss: 3.6816842555999756 | Disc Loss: -6.113922595977783\n",
      "Epoch [6/50] | Gen Loss: 3.9913787841796875 | Disc Loss: -7.890773773193359\n",
      "Epoch [7/50] | Gen Loss: 3.9951467514038086 | Disc Loss: -8.022568702697754\n",
      "Epoch [8/50] | Gen Loss: 4.037567138671875 | Disc Loss: -8.116040229797363\n",
      "Epoch [9/50] | Gen Loss: 4.041471004486084 | Disc Loss: -8.11985969543457\n",
      "Epoch [10/50] | Gen Loss: 4.037487506866455 | Disc Loss: -8.11392879486084\n",
      "Epoch [11/50] | Gen Loss: 4.012322425842285 | Disc Loss: -8.068262100219727\n",
      "Epoch [12/50] | Gen Loss: 3.494447708129883 | Disc Loss: -5.719769477844238\n",
      "Epoch [13/50] | Gen Loss: 3.916431188583374 | Disc Loss: -7.867774963378906\n",
      "Epoch [14/50] | Gen Loss: 3.6960372924804688 | Disc Loss: -4.647774696350098\n",
      "Epoch [15/50] | Gen Loss: 3.9675121307373047 | Disc Loss: -7.980739593505859\n",
      "Epoch [16/50] | Gen Loss: 0.9044501781463623 | Disc Loss: -3.601559638977051\n",
      "Epoch [17/50] | Gen Loss: 3.922292947769165 | Disc Loss: -7.858612060546875\n",
      "Epoch [18/50] | Gen Loss: 3.28013277053833 | Disc Loss: -7.288725852966309\n",
      "Epoch [19/50] | Gen Loss: 3.602281093597412 | Disc Loss: -0.2570173740386963\n",
      "Epoch [20/50] | Gen Loss: 2.0948867797851562 | Disc Loss: -2.4523181915283203\n",
      "Epoch [21/50] | Gen Loss: 3.132706642150879 | Disc Loss: -6.7002668380737305\n",
      "Epoch [22/50] | Gen Loss: 3.9379754066467285 | Disc Loss: -7.891120433807373\n",
      "Epoch [23/50] | Gen Loss: 3.996929168701172 | Disc Loss: -8.041576385498047\n",
      "Epoch [24/50] | Gen Loss: 4.03162956237793 | Disc Loss: -8.10537052154541\n",
      "Epoch [25/50] | Gen Loss: 0.3956671357154846 | Disc Loss: -1.405494213104248\n",
      "Epoch [26/50] | Gen Loss: 0.8330987691879272 | Disc Loss: -3.346522808074951\n",
      "Epoch [27/50] | Gen Loss: 1.4073584079742432 | Disc Loss: -2.4396474361419678\n",
      "Epoch [28/50] | Gen Loss: 1.9411555528640747 | Disc Loss: -2.9927706718444824\n",
      "Epoch [29/50] | Gen Loss: -0.6768013834953308 | Disc Loss: -3.4317467212677\n",
      "Epoch [30/50] | Gen Loss: 3.952122449874878 | Disc Loss: -7.9735260009765625\n",
      "Epoch [31/50] | Gen Loss: 3.8911197185516357 | Disc Loss: -7.807525157928467\n",
      "Epoch [32/50] | Gen Loss: 3.6937437057495117 | Disc Loss: -7.611489295959473\n",
      "Epoch [33/50] | Gen Loss: 3.8889870643615723 | Disc Loss: -7.748828887939453\n",
      "Epoch [34/50] | Gen Loss: -1.5736048221588135 | Disc Loss: -1.0353314876556396\n",
      "Epoch [35/50] | Gen Loss: 1.7600514888763428 | Disc Loss: -4.651432037353516\n",
      "Epoch [36/50] | Gen Loss: 3.41904616355896 | Disc Loss: -6.842823505401611\n",
      "Epoch [37/50] | Gen Loss: 1.4162310361862183 | Disc Loss: -3.4394664764404297\n",
      "Epoch [38/50] | Gen Loss: 3.7095680236816406 | Disc Loss: -6.872367858886719\n",
      "Epoch [39/50] | Gen Loss: 3.8114118576049805 | Disc Loss: -7.648617744445801\n",
      "Epoch [40/50] | Gen Loss: 2.8889036178588867 | Disc Loss: -2.2049341201782227\n",
      "Epoch [41/50] | Gen Loss: 3.8573555946350098 | Disc Loss: -7.81593132019043\n",
      "Epoch [42/50] | Gen Loss: 2.327073335647583 | Disc Loss: -2.9395339488983154\n",
      "Epoch [43/50] | Gen Loss: 3.5485336780548096 | Disc Loss: -1.263362169265747\n",
      "Epoch [44/50] | Gen Loss: 3.0869340896606445 | Disc Loss: -7.5231170654296875\n",
      "Epoch [45/50] | Gen Loss: 3.902609348297119 | Disc Loss: -7.870649337768555\n",
      "Epoch [46/50] | Gen Loss: 3.5041470527648926 | Disc Loss: -7.274060249328613\n",
      "Epoch [47/50] | Gen Loss: 3.7532308101654053 | Disc Loss: -7.6014299392700195\n",
      "Epoch [48/50] | Gen Loss: 3.187572956085205 | Disc Loss: -4.657143592834473\n",
      "Epoch [49/50] | Gen Loss: 2.1406588554382324 | Disc Loss: -5.868989944458008\n",
      "Epoch [50/50] | Gen Loss: 3.2167582511901855 | Disc Loss: -6.594361782073975\n"
     ]
    },
    {
     "data": {
      "image/png": "[encoded data removed]",
      "text/plain": [
       "<Figure size 1000x200 with 1 Axes>"
      ]
     },
     "metadata": {},
     "output_type": "display_data"
    },
    {
     "data": {
      "image/png": "[encoded data removed]",
      "text/plain": [
       "<Figure size 640x480 with 1 Axes>"
      ]
     },
     "metadata": {},
     "output_type": "display_data"
    },
    {
     "data": {
      "image/png": "[encoded data removed]",
      "text/plain": [
       "<Figure size 640x480 with 1 Axes>"
      ]
     },
     "metadata": {},
     "output_type": "display_data"
    },
    {
     "data": {
      "image/png": "[encoded data removed]",
      "text/plain": [
       "<Figure size 640x480 with 1 Axes>"
      ]
     },
     "metadata": {},
     "output_type": "display_data"
    },
    {
     "data": {
      "image/png": "[encoded data removed]",
      "text/plain": [
       "<Figure size 640x480 with 1 Axes>"
      ]
     },
     "metadata": {},
     "output_type": "display_data"
    },
    {
     "data": {
      "image/png": "[encoded data removed]",
      "text/plain": [
       "<Figure size 640x480 with 1 Axes>"
      ]
     },
     "metadata": {},
     "output_type": "display_data"
    },
    {
     "data": {
      "image/png": "[encoded data removed]",
      "text/plain": [
       "<Figure size 640x480 with 1 Axes>"
      ]
     },
     "metadata": {},
     "output_type": "display_data"
    },
    {
     "data": {
      "image/png": "[encoded data removed]",
      "text/plain": [
       "<Figure size 640x480 with 1 Axes>"
      ]
     },
     "metadata": {},
     "output_type": "display_data"
    },
    {
     "data": {
      "image/png": "[encoded data removed]",
      "text/plain": [
       "<Figure size 640x480 with 1 Axes>"
      ]
     },
     "metadata": {},
     "output_type": "display_data"
    },
    {
     "data": {
      "image/png": "[encoded data removed]",
      "text/plain": [
       "<Figure size 640x480 with 1 Axes>"
      ]
     },
     "metadata": {},
     "output_type": "display_data"
    }
   ],
   "source": [
    "# Hyperparameters\n",
    "noise_dim = 100\n",
    "text_dim = 119\n",
    "epochs = 50\n",
    "device = torch.device(\"cuda\" if torch.cuda.is_available() else \"cpu\")\n",
    "\n",
    "# Initialize models\n",
    "generator = Generator(noise_dim, text_dim)\n",
    "discriminator = Discriminator(text_dim)\n",
    "\n",
    "# Train models\n",
    "train_wgan(generator, discriminator, dataloader, epochs, noise_dim, text_dim, device)\n",
    "\n",
    "# Generate and save images\n",
    "generate_and_save_images(generator, epochs, noise_dim, text_dim, device)"
   ]
  },
  {
   "cell_type": "code",
   "execution_count": 7,
   "id": "45efa631-23fd-49bd-80b4-6f7b576defdd",
   "metadata": {},
   "outputs": [
    {
     "name": "stderr",
     "output_type": "stream",
     "text": [
      "/home/ldusana/.local/lib/python3.11/site-packages/torchmetrics/utilities/prints.py:43: UserWarning: Metric `InceptionScore` will save all extracted features in buffer. For large datasets this may lead to large memory footprint.\n",
      "  warnings.warn(*args, **kwargs)  # noqa: B028\n"
     ]
    },
    {
     "name": "stdout",
     "output_type": "stream",
     "text": [
      "Calculating FID for real images...\n",
      "Generating and evaluating fake images for FID...\n",
      "FID Score: 157.34388732910156\n",
      "Calculating Inception Score...\n",
      "Inception Score: 1.07 ± 0.00\n",
      "Final FID Score: 157.34388732910156\n",
      "Final Inception Score: 1.07 ± 0.00\n"
     ]
    }
   ],
   "source": [
    "import torch\n",
    "from torchmetrics.image.fid import FrechetInceptionDistance\n",
    "from torchmetrics.image.inception import InceptionScore\n",
    "\n",
    "def evaluate_gan(generator, dataloader, noise_dim, text_dim, device, num_generated_images=None):\n",
    "    \"\"\"\n",
    "    Evaluate GAN using FID and IS metrics.\n",
    "\n",
    "    Args:\n",
    "        generator (torch.nn.Module): Trained generator model.\n",
    "        dataloader (DataLoader): DataLoader for real images.\n",
    "        noise_dim (int): Dimension of noise vector.\n",
    "        text_dim (int): Dimension of text embedding vector.\n",
    "        device (torch.device): Device for computation.\n",
    "        num_generated_images (int): Number of images to generate for IS (optional).\n",
    "\n",
    "    Returns:\n",
    "        tuple: (FID Score, IS Mean, IS Std)\n",
    "    \"\"\"\n",
    "    # Initialize FID and IS metrics\n",
    "    fid = FrechetInceptionDistance(feature=2048).to(device)\n",
    "    inception_score = InceptionScore(feature=2048, splits=10).to(device)\n",
    "\n",
    "    # Helper function to denormalize images\n",
    "    def denormalize(imgs):\n",
    "        return ((imgs * 0.5 + 0.5) * 255).clamp(0, 255).to(torch.uint8)\n",
    "\n",
    "    generator.eval()\n",
    "\n",
    "    # FID: Evaluate real images\n",
    "    print(\"Calculating FID for real images...\")\n",
    "    for real_images, _ in dataloader:\n",
    "        real_images = real_images.to(device)\n",
    "        fid.update(denormalize(real_images), real=True)\n",
    "\n",
    "    # FID: Evaluate generated images\n",
    "    print(\"Generating and evaluating fake images for FID...\")\n",
    "    batch_size = next(iter(dataloader))[0].shape[0]\n",
    "    with torch.no_grad():\n",
    "        for _ in range(len(dataloader)):  # Match dataset size\n",
    "            noise = torch.randn(batch_size, noise_dim).to(device)\n",
    "            text = torch.randn(batch_size, text_dim).to(device)\n",
    "            fake_images = generator(noise, text).to(device)\n",
    "            fid.update(denormalize(fake_images), real=False)\n",
    "\n",
    "    fid_score = fid.compute().item()\n",
    "    print(f\"FID Score: {fid_score}\")\n",
    "\n",
    "    # Inception Score\n",
    "    if not num_generated_images:\n",
    "        num_generated_images = len(dataloader) * batch_size\n",
    "    print(\"Calculating Inception Score...\")\n",
    "    with torch.no_grad():\n",
    "        for _ in range(num_generated_images // 64):  # Generate in batches of 64\n",
    "            noise = torch.randn(64, noise_dim).to(device)\n",
    "            text = torch.randn(64, text_dim).to(device)\n",
    "            fake_images = generator(noise, text).to(device)\n",
    "            inception_score.update(denormalize(fake_images))\n",
    "\n",
    "    is_mean, is_std = inception_score.compute()\n",
    "    print(f\"Inception Score: {is_mean:.2f} ± {is_std:.2f}\")\n",
    "\n",
    "    return fid_score, is_mean.item(), is_std.item()\n",
    "\n",
    "# Call the evaluation function after training\n",
    "fid_score, is_mean, is_std = evaluate_gan(generator, dataloader, noise_dim, text_dim, device)\n",
    "\n",
    "# Print final results\n",
    "print(f\"Final FID Score: {fid_score}\")\n",
    "print(f\"Final Inception Score: {is_mean:.2f} ± {is_std:.2f}\")\n"
   ]
  },
  {
   "cell_type": "code",
   "execution_count": null,
   "id": "5019e047-f560-4154-8c2f-799d4106d8d4",
   "metadata": {},
   "outputs": [],
   "source": []
  }
 ],
 "metadata": {
  "kernelspec": {
   "display_name": "Python 3 (ipykernel)",
   "language": "python",
   "name": "python3"
  },
  "language_info": {
   "codemirror_mode": {
    "name": "ipython",
    "version": 3
   },
   "file_extension": ".py",
   "mimetype": "text/x-python",
   "name": "python",
   "nbconvert_exporter": "python",
   "pygments_lexer": "ipython3",
   "version": "3.11.5"
  }
 },
 "nbformat": 4,
 "nbformat_minor": 5
}
